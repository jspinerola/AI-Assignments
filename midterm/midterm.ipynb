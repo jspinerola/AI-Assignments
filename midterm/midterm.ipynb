{
 "cells": [
  {
   "cell_type": "markdown",
   "id": "41b8af4a",
   "metadata": {},
   "source": [
    "# Data Preperation"
   ]
  },
  {
   "cell_type": "code",
   "execution_count": 1,
   "id": "47926392",
   "metadata": {},
   "outputs": [
    {
     "name": "stdout",
     "output_type": "stream",
     "text": [
      "(50000, 3072)\n",
      "(50000,)\n",
      "(10000, 3072)\n",
      "(10000,)\n"
     ]
    }
   ],
   "source": [
    "import os\n",
    "import numpy as np\n",
    "\n",
    "dir = \"cifar-10-batches-py\"\n",
    "\n",
    "# testing\n",
    "# os.path.exists(dir)\n",
    "\n",
    "def unpickle(file):\n",
    "    import pickle\n",
    "    with open(file, 'rb') as fo:\n",
    "        dict = pickle.load(fo, encoding='bytes')\n",
    "    return dict\n",
    "\n",
    "# Import Train Data\n",
    "train_data = []\n",
    "train_labels = []\n",
    "\n",
    "# for each batch file\n",
    "for i in range(1, 6):\n",
    "    data_file = unpickle(dir + f\"\\\\data_batch_{i}\")\n",
    "    train_data.extend(data_file[b\"data\"])\n",
    "    train_labels.extend(data_file[b\"labels\"])\n",
    "\n",
    "# Import Test Data\n",
    "test_data = []\n",
    "test_labels = []\n",
    "\n",
    "# Test data file\n",
    "test_data_file = unpickle(dir + \"\\\\test_batch\")\n",
    "test_data = test_data_file[b\"data\"]\n",
    "\n",
    "test_labels = test_data_file[b\"labels\"]\n",
    "\n",
    "# Convert all to numpy arrays\n",
    "train_data = np.array(train_data)\n",
    "train_labels = np.array(train_labels)\n",
    "\n",
    "test_data = np.array(test_data)\n",
    "test_labels = np.array(test_labels)\n",
    "\n",
    "# testing\n",
    "print(train_data.shape) # shape: 10000, 3072\n",
    "print(train_labels.shape)\n",
    "print(test_data.shape)\n",
    "print(test_labels.shape)\n",
    "# print(train_labels[0]) # labels are in range 0-9: airplanes, cars, birds, cats, deer, dogs, frogs, horses, ships, and trucks.\n",
    "# print(train_data[0]) # shape: 3072, 1024 for each RGB color channel"
   ]
  },
  {
   "cell_type": "code",
   "execution_count": 2,
   "id": "958c0265",
   "metadata": {},
   "outputs": [
    {
     "name": "stdout",
     "output_type": "stream",
     "text": [
      "(50000, 3072)\n",
      "[[0.23137255 0.16862745 0.19607843 ... 0.54901961 0.32941176 0.28235294]\n",
      " [0.60392157 0.49411765 0.41176471 ... 0.54509804 0.55686275 0.56470588]\n",
      " [1.         0.99215686 0.99215686 ... 0.3254902  0.3254902  0.32941176]\n",
      " ...\n",
      " [0.1372549  0.15686275 0.16470588 ... 0.30196078 0.25882353 0.19607843]\n",
      " [0.74117647 0.72941176 0.7254902  ... 0.6627451  0.67058824 0.67058824]\n",
      " [0.89803922 0.9254902  0.91764706 ... 0.67843137 0.63529412 0.63137255]]\n"
     ]
    }
   ],
   "source": [
    "# Get all training data and put it in vertical stack data structure\n",
    "all_train_data = np.vstack(train_data)\n",
    "# Normalize all values and data\n",
    "normalized_train_data = all_train_data / 255.0\n",
    "\n",
    "# testing\n",
    "print(normalized_train_data.shape)\n",
    "print(normalized_train_data)\n",
    "\n",
    "all_test_data = np.vstack(test_data)\n",
    "\n",
    "normalized_test_data = all_test_data / 255.0\n",
    "\n",
    "# testing\n",
    "# print(test_data)\n",
    "# print(normalized_test_data)"
   ]
  },
  {
   "cell_type": "markdown",
   "id": "8d143cc7",
   "metadata": {},
   "source": [
    "# K Nearest Neighbor"
   ]
  },
  {
   "cell_type": "code",
   "execution_count": 3,
   "id": "f9f36914",
   "metadata": {},
   "outputs": [],
   "source": [
    "from sklearn.neighbors import KNeighborsClassifier\n",
    "\n",
    "# knn_results = {}\n",
    "\n",
    "# for k in range(1, 9):\n",
    "#   knn = KNeighborsClassifier(k)\n",
    "#   knn.fit(normalized_train_data, train_labels)\n",
    "#   pred = knn.predict(normalized_test_data)\n",
    "#   knn_results[k] = pred"
   ]
  },
  {
   "cell_type": "code",
   "execution_count": 4,
   "id": "bff9f200",
   "metadata": {},
   "outputs": [],
   "source": [
    "from sklearn.metrics import accuracy_score\n",
    "\n",
    "# for k, pred in knn_results.items():\n",
    "#   print(f\"k = {k} accuracy: {accuracy_score(test_labels, pred)}\")"
   ]
  },
  {
   "cell_type": "markdown",
   "id": "5c8bc0f1",
   "metadata": {},
   "source": [
    "# Decision Tree"
   ]
  },
  {
   "cell_type": "code",
   "execution_count": null,
   "id": "dd23b054",
   "metadata": {},
   "outputs": [
    {
     "name": "stdout",
     "output_type": "stream",
     "text": [
      "0.2851\n"
     ]
    }
   ],
   "source": [
    "from sklearn.tree import DecisionTreeClassifier\n",
    "\n",
    "dt = DecisionTreeClassifier(random_state=1, max_depth=15)\n",
    "\n",
    "dt.fit(normalized_train_data, train_labels)\n",
    "\n",
    "pred = dt.predict(normalized_test_data)\n",
    "\n",
    "# Accuracy with max depth = 15\n",
    "print(accuracy_score(test_labels, pred))"
   ]
  },
  {
   "cell_type": "code",
   "execution_count": 7,
   "id": "6fdd9ec5",
   "metadata": {},
   "outputs": [
    {
     "name": "stdout",
     "output_type": "stream",
     "text": [
      "0.2714\n"
     ]
    }
   ],
   "source": [
    "dt = DecisionTreeClassifier(random_state=1, max_depth=25)\n",
    "\n",
    "dt.fit(normalized_train_data, train_labels)\n",
    "\n",
    "pred = dt.predict(normalized_test_data)\n",
    "\n",
    "# Accuracy with max depth = 25\n",
    "print(accuracy_score(test_labels, pred))"
   ]
  },
  {
   "cell_type": "markdown",
   "id": "0cda18e9",
   "metadata": {},
   "source": [
    "# Random Forest"
   ]
  },
  {
   "cell_type": "code",
   "execution_count": 9,
   "id": "e824527a",
   "metadata": {},
   "outputs": [
    {
     "name": "stdout",
     "output_type": "stream",
     "text": [
      "0.4742\n"
     ]
    }
   ],
   "source": [
    "from sklearn.ensemble import RandomForestClassifier\n",
    "\n",
    "rf = RandomForestClassifier(n_estimators=100)\n",
    "rf.fit(normalized_train_data, train_labels)\n",
    "pred = rf.predict(normalized_test_data)\n",
    "\n",
    "# Accuracy with max depth = 25\n",
    "print(accuracy_score(test_labels, pred))"
   ]
  },
  {
   "cell_type": "code",
   "execution_count": 10,
   "id": "fb3ce538",
   "metadata": {},
   "outputs": [
    {
     "name": "stdout",
     "output_type": "stream",
     "text": [
      "0.4795\n"
     ]
    }
   ],
   "source": [
    "rf = RandomForestClassifier(n_estimators=150)\n",
    "rf.fit(normalized_train_data, train_labels)\n",
    "pred = rf.predict(normalized_test_data)\n",
    "\n",
    "# Accuracy with max depth = 25\n",
    "print(accuracy_score(test_labels, pred))"
   ]
  },
  {
   "cell_type": "markdown",
   "id": "1ec4428e",
   "metadata": {},
   "source": [
    "# SVM (i.e., SVC for classification)"
   ]
  },
  {
   "cell_type": "code",
   "execution_count": null,
   "id": "ef0c7d7c",
   "metadata": {},
   "outputs": [],
   "source": []
  },
  {
   "cell_type": "markdown",
   "id": "7db32bfc",
   "metadata": {},
   "source": [
    "# MLP"
   ]
  },
  {
   "cell_type": "code",
   "execution_count": null,
   "id": "7d2ffa0e",
   "metadata": {},
   "outputs": [],
   "source": []
  }
 ],
 "metadata": {
  "kernelspec": {
   "display_name": ".venv",
   "language": "python",
   "name": "python3"
  },
  "language_info": {
   "codemirror_mode": {
    "name": "ipython",
    "version": 3
   },
   "file_extension": ".py",
   "mimetype": "text/x-python",
   "name": "python",
   "nbconvert_exporter": "python",
   "pygments_lexer": "ipython3",
   "version": "3.12.1"
  }
 },
 "nbformat": 4,
 "nbformat_minor": 5
}
